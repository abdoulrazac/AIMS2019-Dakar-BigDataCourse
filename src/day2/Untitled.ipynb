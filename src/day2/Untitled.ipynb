{
 "cells": [
  {
   "cell_type": "code",
   "execution_count": 5,
   "metadata": {},
   "outputs": [],
   "source": [
    "from textblob import TextBlob\n",
    "import nltk"
   ]
  },
  {
   "cell_type": "code",
   "execution_count": 8,
   "metadata": {},
   "outputs": [
    {
     "data": {
      "text/plain": [
       "\"je t'aime\""
      ]
     },
     "execution_count": 8,
     "metadata": {},
     "output_type": "execute_result"
    }
   ],
   "source": [
    "en_blob = TextBlob('I love you')\n",
    "en_blob.translate(from_lang=\"en\", to='fr').raw"
   ]
  },
  {
   "cell_type": "code",
   "execution_count": 7,
   "metadata": {},
   "outputs": [
    {
     "data": {
      "text/plain": [
       "['I', 'love', 'you']"
      ]
     },
     "execution_count": 7,
     "metadata": {},
     "output_type": "execute_result"
    }
   ],
   "source": [
    "\n",
    "words = nltk.word_tokenize('I love you')\n",
    "words"
   ]
  },
  {
   "cell_type": "code",
   "execution_count": 10,
   "metadata": {},
   "outputs": [],
   "source": [
    "# Now do the translation\n",
    "en_fr = {}\n",
    "for w in words:\n",
    "    en_blob = TextBlob(w)\n",
    "    \n",
    "        # use the function translate(from_lang=\"en\", to='fr')\n",
    "        # on the en_blob object defined above\n",
    "    fr_blob = en_blob.translate(from_lang=\"en\", to='fr')\n",
    "    \n",
    "        # use function raw on the blob above to get the word as a string\n",
    "    fr_word = fr_blob.raw \n",
    "    \n",
    "        # put the translated word in the\n",
    "        # dictionary object en_fr with english\n",
    "        # as key and corresponding french translation as value\n",
    "    en_fr[w] = fr_word\n",
    "        \n",
    "\n"
   ]
  },
  {
   "cell_type": "code",
   "execution_count": 11,
   "metadata": {},
   "outputs": [
    {
     "data": {
      "text/plain": [
       "{'I': 'je', 'love': 'amour', 'you': 'vous'}"
      ]
     },
     "execution_count": 11,
     "metadata": {},
     "output_type": "execute_result"
    }
   ],
   "source": [
    "en_fr"
   ]
  },
  {
   "cell_type": "code",
   "execution_count": 12,
   "metadata": {},
   "outputs": [
    {
     "ename": "SyntaxError",
     "evalue": "'return' outside function (<ipython-input-12-c26ac48edb9f>, line 35)",
     "output_type": "error",
     "traceback": [
      "\u001b[0;36m  File \u001b[0;32m\"<ipython-input-12-c26ac48edb9f>\"\u001b[0;36m, line \u001b[0;32m35\u001b[0m\n\u001b[0;31m    return en_fr\u001b[0m\n\u001b[0m                 ^\u001b[0m\n\u001b[0;31mSyntaxError\u001b[0m\u001b[0;31m:\u001b[0m 'return' outside function\n"
     ]
    }
   ],
   "source": [
    "def translate_to_french_for_dunstan(sentence=None):\n",
    "    \"\"\"\n",
    "    Given a sentence, translate each word in the sentence\n",
    "    Example: sentence = 'I love you', returns {\"I\": \"je\", \"love\": \"amour\", \"you\": \"vous\"}\n",
    "    use textblob package (https://textblob.readthedocs.io/en/dev/) and NLTK package\n",
    "    for this task\n",
    "    :param sentence: Sentence to translate\n",
    "    :return: a dictionary where key is english word and value is translated french word\n",
    "    \"\"\"\n",
    "    # first tokenize the words: split the sentence\n",
    "    # into words using the NLTK function word_tokenize()\n",
    "    words = nltk.word_tokenize(sentence)\n",
    "\n",
    "    # initiate a dictionary object to put in english and French words\n",
    "    en_fr = {}\n",
    "\n",
    "    en_fr = {}\n",
    "for w in words:\n",
    "    en_blob = TextBlob(w)\n",
    "    \n",
    "        # use the function translate(from_lang=\"en\", to='fr')\n",
    "        # on the en_blob object defined above\n",
    "    fr_blob = en_blob.translate(from_lang=\"en\", to='fr')\n",
    "    \n",
    "        # use function raw on the blob above to get the word as a string\n",
    "    fr_word = fr_blob.raw \n",
    "    \n",
    "        # put the translated word in the\n",
    "        # dictionary object en_fr with english\n",
    "        # as key and corresponding french translation as value\n",
    "    en_fr[w] = fr_word\n",
    "        \n",
    "\n",
    "#return the dictionary object\n",
    "return en_fr "
   ]
  },
  {
   "cell_type": "code",
   "execution_count": null,
   "metadata": {},
   "outputs": [],
   "source": []
  }
 ],
 "metadata": {
  "kernelspec": {
   "display_name": "Python 3",
   "language": "python",
   "name": "python3"
  },
  "language_info": {
   "codemirror_mode": {
    "name": "ipython",
    "version": 3
   },
   "file_extension": ".py",
   "mimetype": "text/x-python",
   "name": "python",
   "nbconvert_exporter": "python",
   "pygments_lexer": "ipython3",
   "version": "3.6.5"
  },
  "toc": {
   "base_numbering": 1,
   "nav_menu": {},
   "number_sections": true,
   "sideBar": true,
   "skip_h1_title": false,
   "title_cell": "Table of Contents",
   "title_sidebar": "Contents",
   "toc_cell": false,
   "toc_position": {},
   "toc_section_display": true,
   "toc_window_display": false
  }
 },
 "nbformat": 4,
 "nbformat_minor": 2
}
